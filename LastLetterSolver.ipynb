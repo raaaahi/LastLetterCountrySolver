{
  "nbformat": 4,
  "nbformat_minor": 0,
  "metadata": {
    "colab": {
      "name": "LastLetterSolver.ipynb",
      "provenance": []
    },
    "kernelspec": {
      "name": "python3",
      "display_name": "Python 3"
    },
    "language_info": {
      "name": "python"
    }
  },
  "cells": [
    {
      "cell_type": "markdown",
      "source": [
        "Given a list of countries and/cities and a starting value, the algorithm brute force generates a tree of every possible combination of places.\n",
        "\n",
        ">\n",
        "Results are then shown of the longest chain, and length of chain.\n",
        ">\n",
        "Input a country/location and number of generations. "
      ],
      "metadata": {
        "id": "RMwMySt7VKzl"
      }
    },
    {
      "cell_type": "code",
      "execution_count": 6,
      "metadata": {
        "id": "GhXvLsvxZbgd"
      },
      "outputs": [],
      "source": [
        "import pandas as pd\n",
        "import numpy as np\n",
        "import array\n",
        "\n",
        "\n",
        "# kinda like playing dominoes\n",
        "\n",
        "\n",
        "data = pd.read_csv('countries.txt', sep=\" \", header=0)  # imports text file as dataframe and has the header\n",
        "dataLength=len(data)\n",
        "\n",
        "# create extra colunms for data\n",
        "fLet = [None] * dataLength\n",
        "lLet = [None] * dataLength\n",
        "ID = np.zeros(dataLength)  # to do: change 196 to num rows in txtfile\n",
        "matching = np.ones(dataLength)  # first and last letter matching\n",
        "\n",
        "data['First'] = fLet\n",
        "data['Last'] = lLet\n",
        "data['ID'] = ID\n",
        "data['Matching'] = matching\n",
        "\n",
        "i = 0\n",
        "numDupes = 0\n",
        "for index, rows in data.iterrows():  # for each country/row\n",
        "\n",
        "    data.at[i, 'First'] = (data.at[i, 'COUNTRIES'][0].lower())  # gets the first letter in lowercase\n",
        "    data.at[i, 'Last'] = data.at[i, 'COUNTRIES'][-1]  # gets the first letter\n",
        "    data.at[i, 'ID'] = i + 1  # sets the ID, just in case\n",
        "\n",
        "    if (data.at[i, 'First'] == data.at[i, 'Last']):\n",
        "        data.at[i, 'Matching'] = 0  # unmatched are 0, matched are 1-- helps for sorting\n",
        "        numDupes += 1  # 13 duplicate words that dont really help much\n",
        "    i += 1\n"
      ]
    },
    {
      "cell_type": "code",
      "source": [
        "        ##gets the first 'last letter' and sorts the dataframe  1\n",
        "\n",
        "\n",
        "print('What is the starting word')\n",
        "x = input().lower()[-1]  #last letter, TODO fn to check and remove input x \n",
        "# x= 'b'\n",
        "\n",
        "print('How many generations')\n",
        "gen=input()\n",
        "#gen=3\n",
        "\n",
        "\n",
        "\n",
        "j = 0\n",
        "k = 0\n",
        "\n",
        "\n",
        "# create a new useable list\n",
        "global dataframe\n",
        "dataframe = data.sort_values(by=['Matching', 'COUNTRIES'],\n",
        "                             ascending=True)  # sorts first by matchings, than alphabetically\n"
      ],
      "metadata": {
        "colab": {
          "base_uri": "https://localhost:8080/"
        },
        "id": "TILC9HdeaXwB",
        "outputId": "9aea14ec-ea52-4500-a46d-35e474c40c56"
      },
      "execution_count": 20,
      "outputs": [
        {
          "name": "stdout",
          "output_type": "stream",
          "text": [
            "whats the last letter\n",
            "sw\n",
            "How many generations\n",
            "3\n"
          ]
        }
      ]
    },
    {
      "cell_type": "code",
      "source": [
        "#setting up the initial array\n",
        "\n",
        "initialData =[ [0,[0], [x]]] \n",
        "newData= np.array(initialData, dtype=\"object\")   #ndarray? for indexing w array\n",
        "\n",
        "global soln\n",
        "soln = np.array([ [[0,[], [x]]] ],dtype=\"object\")\n",
        "\n",
        "def setup(soln,k):\n",
        "  listCountryIndex = (dataframe[dataframe[\"First\"]==x].index.values) #gives an array of all the indexes of countires with 'x' as first letter\n",
        "  j=0\n",
        "  for rIndex in listCountryIndex:\n",
        "    \n",
        "    wordToAdd=dataframe.at[listCountryIndex[j-1],\"COUNTRIES\"] #the word that is at j that should be added\n",
        "    package= np.array([[[k,[rIndex],[x, wordToAdd]]]],dtype=\"object\") #array for the loop with the node, indexToRemove, and word to add\n",
        "    soln = np.append(soln,package, axis=0)\n",
        "    j+=1\n",
        "  return(soln)\n",
        "\n",
        "\n",
        "k=1 #the node\n",
        "zed = setup(soln,k)\n",
        "\n"
      ],
      "metadata": {
        "id": "zqjotGrFaZ7u"
      },
      "execution_count": 8,
      "outputs": []
    },
    {
      "cell_type": "code",
      "source": [
        "#repeatable part of continuting chain\n",
        "\n",
        "k=1 #the node\n",
        "zed = setup(soln,k) #creates an ARRAY  #k could just be 1\n",
        "initalLength=len(zed)\n",
        "\n",
        "\n",
        "\n",
        "\n",
        "\n",
        "\n",
        "while k<int(gen):                       #k<8 gives how long chain should be\n",
        "  k+=1  #new level\n",
        "  m=0  #for each level, m represents the diffent new parents\n",
        "  j=0 #for the children increments\n",
        "\n",
        "  currentArray=zed[(zed[:,0,0] == (k-1))] #filter: sort by first column#zed array withOnlu the k-1 for parents \n",
        "\n",
        "  #fixes bug where the last chronological/index appears first\n",
        "  currentArray=np.roll(currentArray, -1,axis=0) #moving first to last \n",
        "  ##\n",
        "\n",
        "\n",
        "  for pRow in currentArray: #eachParentRow(parents) row in currentArray: each parent\n",
        "    x=pRow[-1][-1][-1][-1][-1]  #the lastest last character in the array\n",
        "    \n",
        "    newDataFrame=dataframe.drop(pRow[0][1])   #new set is a set without the already used data\n",
        "    \n",
        "    #listCOuntryIndex= gets countries with the propper letter\n",
        "    listCountryIndex = (newDataFrame[newDataFrame[\"First\"]==x].index.values) #gets index of countries with the propper letter\n",
        "\n",
        "    # droppingIndexes=[] #list of indexes to drop \n",
        "    for rIndexs in listCountryIndex: #eachposibleCountryInext: each possible child \n",
        "      \n",
        "      # if rIndex in pRow[0][1]:\n",
        "      droppingIndexes=[] #list of indexes to drop \n",
        "      wordsList=pRow[0][2][:]\n",
        "      # wordToAdd=#similar to before, based on j\n",
        "\n",
        "      wordToAdds=newDataFrame.at[listCountryIndex[j],\"COUNTRIES\"] #gets one of the possible words to add\n",
        "      wordsList.append(wordToAdds)\n",
        "\n",
        "      droppingIndexes= np.concatenate((pRow[0][1], rIndexs), axis=None) #1Darray of all index to remvote using the current list and the current index\n",
        "\n",
        "                                               #remove bracket           # [0][:]\n",
        "      packageL= np.array([[[k,droppingIndexes,wordsList]]],dtype=\"object\") #array for the loop with the node, indexToRemove, and word to add[:]\n",
        "      zed = np.append(zed,packageL, axis=0 )\n",
        "      \n",
        " \n",
        "      j+=1 #j++; shhh\n",
        "    j=0 #reset this boy\n",
        "    m+=1\n",
        "    \n",
        "    \n",
        "\n",
        "#optimiations TODO: skip throught the matching As - how many countries end with a? perhaps remove the 'matching=0' coutnries and add 7 or 1 based on the last most number \n",
        "              #deleting AA-matching, then add matching ones length to LongestRowLength if ends with A/S\n"
      ],
      "metadata": {
        "id": "O6-F7vm65Cpz"
      },
      "execution_count": 12,
      "outputs": []
    },
    {
      "cell_type": "code",
      "source": [
        "#using zed to get the solution\n",
        "\n",
        "longestRow=[]\n",
        "longestRowLength=0\n",
        "for solnRows in zed:\n",
        "  # print(solnRows[0][2])\n",
        "  if len(solnRows[0][2]) >longestRowLength:\n",
        "    \n",
        "    longestRowLength=len(solnRows[0][2])\n",
        "    longestRow=solnRows\n",
        "\n",
        "print('Longest chain length: ')\n",
        "print(longestRowLength)\n",
        "\n",
        "print('Longest chain: ')\n",
        "print(longestRow[0][2])\n",
        "\n",
        "print('Longest chain row: ')\n",
        "print(longestRow)  "
      ],
      "metadata": {
        "colab": {
          "base_uri": "https://localhost:8080/"
        },
        "id": "tfWlTxBnaiLH",
        "outputId": "dfd0daf2-0be1-4a5c-c0cd-b997dc962a84"
      },
      "execution_count": 19,
      "outputs": [
        {
          "output_type": "stream",
          "name": "stdout",
          "text": [
            "Longest chain length: \n",
            "4\n",
            "Longest chain: \n",
            "['v', 'Vanuatu', 'Ukraine', 'EastTimor']\n",
            "Longest chain row: \n",
            "[[3 array([190, 183,  49]) list(['v', 'Vanuatu', 'Ukraine', 'EastTimor'])]]\n"
          ]
        }
      ]
    },
    {
      "cell_type": "markdown",
      "source": [
        "Issues:\n",
        "\n",
        "-when using a dataset of 196 locations(all countries) generation>4 take minutes-hours without optimizations\n",
        "\n",
        "TODO:\n",
        "\n",
        "-function to remove input place from data list\n",
        "\n",
        "-function to remove locations that start and end with the same letter, than add them to the last/longest chains"
      ],
      "metadata": {
        "id": "0QeQ0V5TWOBG"
      }
    },
    {
      "cell_type": "code",
      "source": [
        "print(dataframe)\n",
        "print(zed)"
      ],
      "metadata": {
        "colab": {
          "base_uri": "https://localhost:8080/"
        },
        "id": "qWJIX4MVML_Q",
        "outputId": "00d275e5-ec0c-48d9-d58f-a02df54899ff"
      },
      "execution_count": 22,
      "outputs": [
        {
          "output_type": "stream",
          "name": "stdout",
          "text": [
            "     COUNTRIES First Last     ID  Matching\n",
            "1      Albania     a    a    2.0       0.0\n",
            "2      Algeria     a    a    3.0       0.0\n",
            "3      Andorra     a    a    4.0       0.0\n",
            "4       Angola     a    a    5.0       0.0\n",
            "6    Argentina     a    a    7.0       0.0\n",
            "..         ...   ...  ...    ...       ...\n",
            "191  Venezuela     v    a  192.0       1.0\n",
            "192    Vietnam     v    m  193.0       1.0\n",
            "193      Yemen     y    n  194.0       1.0\n",
            "194     Zambia     z    a  195.0       1.0\n",
            "195   Zimbabwe     z    e  196.0       1.0\n",
            "\n",
            "[196 rows x 5 columns]\n",
            "[[[0 list([]) list(['v'])]]\n",
            "\n",
            " [[1 list([189]) list(['v', 'Vietnam'])]]\n",
            "\n",
            " [[1 list([190]) list(['v', 'Vanuatu'])]]\n",
            "\n",
            " ...\n",
            "\n",
            " [[3 array([190, 182,   0])\n",
            "   list(['v', 'Vanuatu', 'Uganda', 'Afghanistan'])]]\n",
            "\n",
            " [[3 array([190, 182,   5])\n",
            "   list(['v', 'Vanuatu', 'Uganda', 'Antigua&Deps'])]]\n",
            "\n",
            " [[3 array([190, 182,  10])\n",
            "   list(['v', 'Vanuatu', 'Uganda', 'Azerbaijan'])]]]\n"
          ]
        }
      ]
    }
  ]
}